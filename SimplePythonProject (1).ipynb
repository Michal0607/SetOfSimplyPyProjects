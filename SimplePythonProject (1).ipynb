{
 "cells": [
  {
   "cell_type": "code",
   "execution_count": 37,
   "id": "04419ca8-f137-4bea-9af3-4a9b87ad307c",
   "metadata": {},
   "outputs": [],
   "source": [
    "import random\n",
    "\n",
    "MAX_LINES=3\n",
    "MAX_BET=100\n",
    "MIN_BET=1\n",
    "\n",
    "ROWS=3\n",
    "COLS=3\n",
    "\n",
    "symbol_count={\n",
    "    \"A\":2,\n",
    "    \"B\":4,\n",
    "    \"C\":6,\n",
    "    \"D\":8\n",
    "}\n",
    "\n",
    "symbol_value={\n",
    "    \"A\":5,\n",
    "    \"B\":4,\n",
    "    \"C\":3,\n",
    "    \"D\":2\n",
    "}"
   ]
  },
  {
   "cell_type": "code",
   "execution_count": 38,
   "id": "73555c7b-cf49-429f-b74c-45940b854c02",
   "metadata": {},
   "outputs": [],
   "source": [
    "def check_winnings(columns,lines,bet,value):\n",
    "    winnings=0\n",
    "    winning_lines=[]\n",
    "    for line in range(lines):\n",
    "        symbol=columns[0][line]\n",
    "        for column in columns:\n",
    "            symbol_to_check=column[0]\n",
    "            if symbol != symbol_to_check:\n",
    "                break\n",
    "        else:\n",
    "            winnings+=value[symbol]*bet\n",
    "            winning_lines.append(line+1)\n",
    "            \n",
    "    return winnings,winning_lines"
   ]
  },
  {
   "cell_type": "code",
   "execution_count": 39,
   "id": "2ffa897f-84cf-4956-b6b9-ab353c8b61ab",
   "metadata": {},
   "outputs": [],
   "source": [
    "def get_slot_machine_spin(rows,cols,symbols):\n",
    "    all_symbols=[]\n",
    "    for symbol, symbol_count in symbols.items():\n",
    "        for _ in range(symbol_count):\n",
    "            all_symbols.append(symbol)\n",
    "    \n",
    "    columns=[]\n",
    "    \n",
    "    for col in range(cols):\n",
    "        column=[]\n",
    "        current_symbols=all_symbols[:]\n",
    "        for _ in range(rows):\n",
    "            value=random.choice(current_symbols)\n",
    "            current_symbols.remove(value)\n",
    "            column.append(value)\n",
    "        \n",
    "        columns.append(column)\n",
    "        \n",
    "    return columns"
   ]
  },
  {
   "cell_type": "code",
   "execution_count": 40,
   "id": "15a34401-e546-465c-9703-0d5f215b47d0",
   "metadata": {},
   "outputs": [],
   "source": [
    "def print_slot_machine(columns):\n",
    "    for row in range(len(columns[0])):\n",
    "        for i,column in enumerate(columns):\n",
    "            if i!=len(column)-1:\n",
    "                print(column[row],end=\"|\")\n",
    "            else:\n",
    "                print(column[row],end=\"\")\n",
    "        print()"
   ]
  },
  {
   "cell_type": "code",
   "execution_count": 41,
   "id": "fd79dafa-58c6-4439-b797-20815ccaa25f",
   "metadata": {},
   "outputs": [],
   "source": [
    "def deposit():\n",
    "    while True:\n",
    "        amount=input(\"What would you like to deposit? $\")\n",
    "        if amount.isdigit():\n",
    "            amount=int(amount)\n",
    "            if amount>0:\n",
    "                break\n",
    "            else:\n",
    "                print(\"Amount must be greater that 0\")\n",
    "        else:\n",
    "            print(\"Enter a number.\")\n",
    "    return amount"
   ]
  },
  {
   "cell_type": "code",
   "execution_count": 42,
   "id": "3d306709-06eb-4196-87e9-5cf60b7cf1ae",
   "metadata": {},
   "outputs": [],
   "source": [
    "def get_number_of_lines():\n",
    "    while True:\n",
    "        lines=input(\"Enter the number of lines to bet on (1-\"+str(MAX_LINES)+\")?\")\n",
    "        if lines.isdigit():\n",
    "            lines=int(lines)\n",
    "            if 1<=lines<=MAX_LINES:\n",
    "                break\n",
    "            else:\n",
    "                print(\"Invalid number of lines\")\n",
    "        else:\n",
    "            print(\"Enter a number of lines\")\n",
    "    return lines"
   ]
  },
  {
   "cell_type": "code",
   "execution_count": 43,
   "id": "a4e3dc31-2696-4e97-9bba-32693a535314",
   "metadata": {},
   "outputs": [],
   "source": [
    "def get_bet():\n",
    "    while True:\n",
    "        bet=input(\"What would you like to bet? $\")\n",
    "        if bet.isdigit():\n",
    "            bet=int(bet)\n",
    "            if MIN_BET<=bet<=MAX_BET:\n",
    "                break\n",
    "            else:\n",
    "                print(f\"Bet must be between ${MIN_BET}- ${MAX_BET}.\")\n",
    "        else:\n",
    "            print(\"Please enter a number\")\n",
    "    return bet"
   ]
  },
  {
   "cell_type": "code",
   "execution_count": 44,
   "id": "c844c323-e1d8-4d39-9338-95e4731469b5",
   "metadata": {},
   "outputs": [],
   "source": [
    "def spin(balance):\n",
    "    lines=get_number_of_lines()\n",
    "    while True:\n",
    "        bet=get_bet()\n",
    "        total_bet=bet*lines\n",
    "        \n",
    "        if total_bet>balance:\n",
    "            print(f\"You don't have enought to bet that amount, your current balance is: ${balance}\")\n",
    "        else:\n",
    "            break\n",
    "    print(f\"You are betting ${bet} on {lines} lines. Total bet is equal to: ${total_bet}\")\n",
    "    \n",
    "    slots=get_slot_machine_spin(ROWS,COLS,symbol_count)\n",
    "    print_slot_machine(slots)\n",
    "    winnings,winning_lines=check_winnings(slots,lines,bet,symbol_value)\n",
    "    print(f\"You won ${winnings}.\")\n",
    "    print(f\"You won on lines: \", *winning_lines)\n",
    "    \n",
    "    return winnings - total_bet"
   ]
  },
  {
   "cell_type": "code",
   "execution_count": 45,
   "id": "8774c03c-db8c-4ab0-98f4-27991cfba831",
   "metadata": {},
   "outputs": [],
   "source": [
    "def main():\n",
    "    balance=deposit()\n",
    "    while True:\n",
    "        print(f\"Current balance is ${balance}\")\n",
    "        answer=input(\"Press enter to play(q to quit).\")\n",
    "        if answer==\"q\":\n",
    "            break\n",
    "        else:\n",
    "            balance+=spin(balance)\n",
    "    \n",
    "    print(f\"You left with ${balance}\")"
   ]
  },
  {
   "cell_type": "code",
   "execution_count": 46,
   "id": "9a4babd5-8bd3-4ee8-95dd-a6f197029cb1",
   "metadata": {},
   "outputs": [
    {
     "name": "stdin",
     "output_type": "stream",
     "text": [
      "What would you like to deposit? $ 1000\n"
     ]
    },
    {
     "name": "stdout",
     "output_type": "stream",
     "text": [
      "Current balance is $1000\n"
     ]
    },
    {
     "name": "stdin",
     "output_type": "stream",
     "text": [
      "Press enter to play(q to quit). \n",
      "Enter the number of lines to bet on (1-3)? 2\n",
      "What would you like to bet? $ 10\n"
     ]
    },
    {
     "name": "stdout",
     "output_type": "stream",
     "text": [
      "You are betting $10 on 2 lines. Total bet is equal to: $20\n",
      "B|A|C\n",
      "D|B|C\n",
      "C|D|B\n",
      "You won $0.\n",
      "You won on lines: \n",
      "Current balance is $980\n"
     ]
    },
    {
     "name": "stdin",
     "output_type": "stream",
     "text": [
      "Press enter to play(q to quit). q\n"
     ]
    },
    {
     "name": "stdout",
     "output_type": "stream",
     "text": [
      "You left with $980\n"
     ]
    }
   ],
   "source": [
    "main()\n"
   ]
  }
 ],
 "metadata": {
  "kernelspec": {
   "display_name": "Python 3 (ipykernel)",
   "language": "python",
   "name": "python3"
  },
  "language_info": {
   "codemirror_mode": {
    "name": "ipython",
    "version": 3
   },
   "file_extension": ".py",
   "mimetype": "text/x-python",
   "name": "python",
   "nbconvert_exporter": "python",
   "pygments_lexer": "ipython3",
   "version": "3.9.13"
  }
 },
 "nbformat": 4,
 "nbformat_minor": 5
}
